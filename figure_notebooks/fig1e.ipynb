{
 "cells": [
  {
   "cell_type": "code",
   "execution_count": 1,
   "id": "65db4c70",
   "metadata": {},
   "outputs": [
    {
     "name": "stderr",
     "output_type": "stream",
     "text": [
      "/Users/sevahn/anaconda3/lib/python3.11/site-packages/pandas/core/arrays/masked.py:60: UserWarning: Pandas requires version '1.3.6' or newer of 'bottleneck' (version '1.3.5' currently installed).\n",
      "  from pandas.core import (\n"
     ]
    }
   ],
   "source": [
    "import numpy as np\n",
    "import pandas as pd\n",
    "\n",
    "\n",
    "import os\n",
    "\n",
    "import matplotlib.pyplot as plt\n",
    "import seaborn as sns\n",
    "import matplotlib as mpl\n",
    "\n",
    "\n",
    "\n",
    "# For editable text. Except latex text is still shapes sadly\n",
    "mpl.rcParams['pdf.fonttype'] = 42\n",
    "mpl.rcParams['ps.fonttype'] = 42\n",
    "sns.set_style(\"whitegrid\")\n",
    "font = {'size' : 6}\n",
    "lines = {'linewidth' : 0.5}\n",
    "fig = {'figsize' : (2.5, 1.5)}\n",
    "mpl.rc('font', **font)\n",
    "mpl.rc('lines', **lines)\n",
    "mpl.rc('figure', **fig)\n",
    "\n",
    "# Set style\n",
    "sns.set(style = \"whitegrid\",\n",
    "        palette = \"pastel\",\n",
    "        color_codes = True)\n",
    "\n",
    "import cfrna_methods as toolkit"
   ]
  },
  {
   "cell_type": "code",
   "execution_count": 2,
   "id": "3b6a40b6",
   "metadata": {},
   "outputs": [],
   "source": [
    "def save_figure_pdf(fig, path_to_save):\n",
    "\t'''\n",
    "\tUtility fxn to save a figure without having to retype all the required options.\n",
    "\tInput:\n",
    "\t\tfig - a matplotlib.pyplot.figure instance with the figure you'd like to save\n",
    "\t\tpath_to_save - the path you'd like to save the figure to\n",
    "\tReturns: Nothing but there should now be a pdf version in 300 dpi with a transparent bkg at path_to_save\n",
    "\t'''\n",
    "\tfig.savefig(path_to_save, dpi = 300, bbox_inches = 'tight', transparent = True)"
   ]
  },
  {
   "cell_type": "markdown",
   "id": "76e21e9a",
   "metadata": {},
   "source": [
    "# read in raw data and filter"
   ]
  },
  {
   "cell_type": "code",
   "execution_count": 3,
   "id": "5bd2453e",
   "metadata": {},
   "outputs": [],
   "source": [
    "leong_cts = pd.read_csv(\"../data/rna_seq_cts/leong_htseq_merged.csv\",\n",
    "                       index_col = (0, 1))\n",
    "\n",
    "leong_meta = pd.read_csv(\"../data/rna_seq_cts/leong_metadata.csv\",\n",
    "                        index_col = 0)\n",
    "\n",
    "tumorPatients = leong_meta[['Stage', 'Grade', 'Tumor Size.1']]"
   ]
  },
  {
   "cell_type": "code",
   "execution_count": 4,
   "id": "df5d92d1",
   "metadata": {},
   "outputs": [
    {
     "name": "stdout",
     "output_type": "stream",
     "text": [
      "T2\n",
      "T2 + CIS\n",
      "T2\n"
     ]
    }
   ],
   "source": [
    "# do the cancer staging in leong_meta\n",
    "cancer_type = []\n",
    "for i in leong_meta['Stage']:\n",
    "    if 'ontrol' in i:\n",
    "        cancer_type += ['control']\n",
    "    elif 'T1' in i or 'Ta' in i:\n",
    "        \n",
    "        cancer_type += ['NMIBC']\n",
    "    else:\n",
    "        print(i)\n",
    "        cancer_type += ['MIBC']\n",
    "leong_meta['cancer_type'] = cancer_type"
   ]
  },
  {
   "cell_type": "code",
   "execution_count": 5,
   "id": "af7263ad",
   "metadata": {},
   "outputs": [
    {
     "name": "stdout",
     "output_type": "stream",
     "text": [
      "counts table has been logcpm normalized\n",
      "counts table has been cpm normalized\n"
     ]
    }
   ],
   "source": [
    "leong_logcpm = toolkit.logcpm_normalize(leong_cts)\n",
    "leong_cpm = toolkit.cpm(leong_cts)"
   ]
  },
  {
   "cell_type": "code",
   "execution_count": 6,
   "id": "e1fcd3bd",
   "metadata": {},
   "outputs": [
    {
     "name": "stdout",
     "output_type": "stream",
     "text": [
      "there are 23 samples.\n",
      "24.8 % genes in at least 13.0 % samples above  0.75  CPM passed.\n"
     ]
    }
   ],
   "source": [
    "n_samps = leong_cpm.shape[1]\n",
    "print(f\"there are {n_samps} samples.\")\n",
    "filtered_cpm = toolkit.filter_cpm_aboveKThresh(leong_cpm,\n",
    "                                               cpm_thresh = 0.75, #~10 counts/ sample\n",
    "                                               k_thresh = 3 / n_samps)"
   ]
  },
  {
   "cell_type": "code",
   "execution_count": 7,
   "id": "a2a0fe82",
   "metadata": {},
   "outputs": [],
   "source": [
    "filtered_cpmonly = leong_cts.loc[filtered_cpm.index]"
   ]
  },
  {
   "cell_type": "code",
   "execution_count": 8,
   "id": "473a3b97",
   "metadata": {},
   "outputs": [],
   "source": [
    "good_genes = [i for i in filtered_cpmonly.index.get_level_values(1) if 'ERCC' not in i]"
   ]
  },
  {
   "cell_type": "code",
   "execution_count": 9,
   "id": "1b116697",
   "metadata": {},
   "outputs": [],
   "source": [
    "filtered_cpmonly_notail = filtered_cpmonly.loc(axis = 0)[:, good_genes].iloc[:-5, :]\n",
    "#filtered_cpmonly_notail.to_csv(\"20231230_leong_htseq_raw.csv\")"
   ]
  },
  {
   "cell_type": "code",
   "execution_count": 10,
   "id": "8776ecd9",
   "metadata": {},
   "outputs": [],
   "source": [
    "bladder_sigs = pd.read_csv(\"../data/rna_seq_cts/bladder_urothelial_sig.csv\",\n",
    "                           index_col = 0)\n",
    "bladder_genes = bladder_sigs['bladder urothelial cell-gini'].dropna().index.tolist()"
   ]
  },
  {
   "cell_type": "markdown",
   "id": "2cddef08",
   "metadata": {},
   "source": [
    "# tmm normalize"
   ]
  },
  {
   "cell_type": "code",
   "execution_count": 11,
   "id": "48e4d889",
   "metadata": {},
   "outputs": [],
   "source": [
    "leong_raw = pd.read_csv(\"20231230_leong_htseq_raw.csv\",\n",
    "                       index_col = (0, 1))\n",
    "\n",
    "tmm = pd.read_csv(\"20231230_leong_cts_CPMFILT_TMM_noMA4.csv\",\n",
    "                 index_col = 0)"
   ]
  },
  {
   "cell_type": "code",
   "execution_count": 12,
   "id": "86f063f7",
   "metadata": {},
   "outputs": [],
   "source": [
    "leong_cpm = leong_raw.div(tmm['lib.size'] * tmm['norm.factors'], axis = 1) * 10 ** 6"
   ]
  },
  {
   "cell_type": "code",
   "execution_count": 13,
   "id": "2238b420",
   "metadata": {},
   "outputs": [],
   "source": [
    "leong_cpm.index = leong_cpm.index.swaplevel()"
   ]
  },
  {
   "cell_type": "code",
   "execution_count": 14,
   "id": "280bdb64",
   "metadata": {},
   "outputs": [],
   "source": [
    "leong_logcpm = np.log(leong_cpm + 1) "
   ]
  },
  {
   "cell_type": "code",
   "execution_count": 15,
   "id": "bb5c2451",
   "metadata": {},
   "outputs": [],
   "source": [
    "from sklearn.decomposition import PCA\n",
    "pca = PCA(n_components=2)"
   ]
  },
  {
   "cell_type": "code",
   "execution_count": 16,
   "id": "ae491a12",
   "metadata": {},
   "outputs": [],
   "source": [
    "X = leong_logcpm.values \n",
    "res = pca.fit_transform(X.T)\n",
    "\n",
    "res = pd.DataFrame(res)\n",
    "res.index = leong_logcpm.columns\n",
    "res = leong_meta.join(res)"
   ]
  },
  {
   "cell_type": "code",
   "execution_count": 17,
   "id": "93557d45",
   "metadata": {},
   "outputs": [],
   "source": [
    "# PCA bladder only and assess separation\n",
    "intersection = np.intersect1d(leong_logcpm.index.get_level_values(0), \n",
    "              bladder_genes)\n",
    "bladder_only = leong_logcpm.loc(axis = 0)[intersection, :]\n",
    "\n",
    "bladder_pca = pca.fit_transform(bladder_only.T)\n",
    "bladder_pca = pd.DataFrame(bladder_pca)\n",
    "bladder_pca.index = bladder_only.columns\n",
    "bladder_only = bladder_pca.join(leong_meta)"
   ]
  },
  {
   "cell_type": "markdown",
   "id": "4aef8d22",
   "metadata": {},
   "source": [
    "# QC data"
   ]
  },
  {
   "cell_type": "code",
   "execution_count": 18,
   "id": "7e603cc7",
   "metadata": {},
   "outputs": [],
   "source": [
    "leong_dna = pd.read_csv(\"../data/leong/intron_exon_ratios.txt\",\n",
    "                       sep = \"\\t\", index_col = 0)\n",
    "\n",
    "leong_3p = pd.read_csv(\"../data/leong/deg_3prime_bias_frac_1.txt\",\n",
    "                      sep = \"\\t\", index_col = 0)\n",
    "\n",
    "leong_ribo = pd.read_csv(\"../data/leong/ribo_frac.txt\",\n",
    "                        sep = \"\\t\", index_col = 0)\n",
    "\n",
    "leong_qc = leong_ribo.join([leong_3p, leong_dna])"
   ]
  },
  {
   "cell_type": "code",
   "execution_count": 19,
   "id": "9c0e8b62",
   "metadata": {},
   "outputs": [],
   "source": [
    "leong_qc['ceil_dna'] = np.ceil(leong_qc.intron_exon_ratio)"
   ]
  },
  {
   "cell_type": "code",
   "execution_count": 20,
   "id": "2bb62d31",
   "metadata": {},
   "outputs": [],
   "source": [
    "bladder_only = bladder_only.join(leong_qc)\n",
    "res = res.join(leong_qc)"
   ]
  },
  {
   "cell_type": "code",
   "execution_count": 21,
   "id": "6b74e8ae",
   "metadata": {},
   "outputs": [],
   "source": [
    "colors = [\"8ecae6\",\"219ebc\",\"023047\",\"ffb703\",\"fb8500\"]\n",
    "colors = [f\"#{i}\" for i in colors]\n",
    "\n",
    "pal = {}\n",
    "for i, val in enumerate(np.unique(res.ceil_dna)):\n",
    "    pal[val] = colors[i]\n",
    "    \n"
   ]
  },
  {
   "cell_type": "code",
   "execution_count": 22,
   "id": "ec12b90d",
   "metadata": {},
   "outputs": [],
   "source": [
    "res['is_cancer'] = [\"True\" if i != 'control' else \"False\" for i in res.cancer_type]"
   ]
  },
  {
   "cell_type": "code",
   "execution_count": 23,
   "id": "f28c4659",
   "metadata": {},
   "outputs": [],
   "source": [
    "for i, val in enumerate(np.unique(res.is_cancer)):\n",
    "    pal[val] = colors[i + 2]"
   ]
  },
  {
   "cell_type": "code",
   "execution_count": 24,
   "id": "69594e7f",
   "metadata": {},
   "outputs": [],
   "source": [
    "bladder_only['is_cancer'] =  [\"True\" if i != 'control' else \"False\" for i in bladder_only.cancer_type]"
   ]
  },
  {
   "cell_type": "code",
   "execution_count": 25,
   "id": "bae0afbb",
   "metadata": {},
   "outputs": [
    {
     "data": {
      "text/plain": [
       "Text(0, 0.5, 'PCA2')"
      ]
     },
     "execution_count": 25,
     "metadata": {},
     "output_type": "execute_result"
    },
    {
     "data": {
      "image/png": "[encoded data removed]",
      "text/plain": [
       "<Figure size 500x500 with 1 Axes>"
      ]
     },
     "metadata": {},
     "output_type": "display_data"
    }
   ],
   "source": [
    "plt.figure(figsize = (5, 5))\n",
    "\n",
    "sns.scatterplot(data = bladder_only,\n",
    "                x = 0, y = 1,              \n",
    "                palette = pal,\n",
    "                hue = 'is_cancer')\n",
    "\n",
    "plt.legend(bbox_to_anchor = (1.3, 1))\n",
    "plt.xlabel(\"PCA1\")\n",
    "plt.ylabel(\"PCA2\")\n",
    "\n",
    "#save_figure_pdf(plt, '../figures/20231230_pca_leongBladder_isCancer.pdf')"
   ]
  },
  {
   "cell_type": "code",
   "execution_count": 26,
   "id": "28699406",
   "metadata": {
    "scrolled": true
   },
   "outputs": [
    {
     "data": {
      "text/plain": [
       "Text(0, 0.5, 'PCA2')"
      ]
     },
     "execution_count": 26,
     "metadata": {},
     "output_type": "execute_result"
    },
    {
     "data": {
      "image/png": "[encoded data removed]",
      "text/plain": [
       "<Figure size 500x500 with 1 Axes>"
      ]
     },
     "metadata": {},
     "output_type": "display_data"
    }
   ],
   "source": [
    "plt.figure(figsize = (5, 5))\n",
    "\n",
    "sns.scatterplot(data = bladder_only,\n",
    "                x = 0, y = 1,\n",
    "                hue = 'ceil_dna',\n",
    "               palette = pal)\n",
    "\n",
    "plt.legend(bbox_to_anchor = (1.3, 1))\n",
    "plt.xlabel(\"PCA1\")\n",
    "plt.ylabel(\"PCA2\")\n",
    "\n",
    "#save_figure_pdf(plt, '../figures/20231230_pca_leongBladder_dnaContam.pdf')"
   ]
  },
  {
   "cell_type": "code",
   "execution_count": 27,
   "id": "fae01e57",
   "metadata": {},
   "outputs": [
    {
     "name": "stderr",
     "output_type": "stream",
     "text": [
      "/Users/sevahn/anaconda3/lib/python3.11/site-packages/seaborn/_oldcore.py:1119: FutureWarning: use_inf_as_na option is deprecated and will be removed in a future version. Convert inf values to NaN before operating instead.\n",
      "  with pd.option_context('mode.use_inf_as_na', True):\n",
      "/Users/sevahn/anaconda3/lib/python3.11/site-packages/seaborn/_oldcore.py:1119: FutureWarning: use_inf_as_na option is deprecated and will be removed in a future version. Convert inf values to NaN before operating instead.\n",
      "  with pd.option_context('mode.use_inf_as_na', True):\n",
      "/Users/sevahn/anaconda3/lib/python3.11/site-packages/seaborn/_oldcore.py:1075: FutureWarning: When grouping with a length-1 list-like, you will need to pass a length-1 tuple to get_group in a future version of pandas. Pass `(name,)` instead of `name` to silence this warning.\n",
      "  data_subset = grouped_data.get_group(pd_key)\n"
     ]
    },
    {
     "data": {
      "text/plain": [
       "<matplotlib.legend.Legend at 0x177941b90>"
      ]
     },
     "execution_count": 27,
     "metadata": {},
     "output_type": "execute_result"
    },
    {
     "data": {
      "image/png": "[encoded data removed]",
      "text/plain": [
       "<Figure size 300x500 with 1 Axes>"
      ]
     },
     "metadata": {},
     "output_type": "display_data"
    }
   ],
   "source": [
    "plt.figure(figsize = (3, 5))\n",
    "\n",
    "sns.boxplot(data = res,\n",
    "            color = '#9BDDFF',\n",
    "           y = 'intron_exon_ratio')\n",
    "\n",
    "sns.swarmplot(data = res,\n",
    "           y = 'intron_exon_ratio',\n",
    "             hue = 'is_cancer',\n",
    "             palette = pal)\n",
    "\n",
    "plt.legend(bbox_to_anchor = (1.05, 1))\n",
    "\n",
    "#save_figure_pdf(plt, \"../figures/20240101_intronexonratio_leong.pdf\")"
   ]
  },
  {
   "cell_type": "markdown",
   "id": "2f433a9e",
   "metadata": {},
   "source": [
    "# sequencing depth"
   ]
  },
  {
   "cell_type": "code",
   "execution_count": 28,
   "id": "111fe854",
   "metadata": {},
   "outputs": [],
   "source": [
    "leong_depth = pd.read_csv(\"../data/leong/leong_depth.txt\",\n",
    "           sep = \"\\t\")"
   ]
  },
  {
   "cell_type": "code",
   "execution_count": 29,
   "id": "84cf7be5",
   "metadata": {},
   "outputs": [],
   "source": [
    "leong_depths = toolkit.extract_star_depth(leong_depth)"
   ]
  },
  {
   "cell_type": "code",
   "execution_count": 30,
   "id": "913e3af9",
   "metadata": {},
   "outputs": [],
   "source": [
    "leong_depths = leong_depths.loc[leong_depths.index != 'MA4']"
   ]
  },
  {
   "cell_type": "code",
   "execution_count": 31,
   "id": "796bba09",
   "metadata": {},
   "outputs": [
    {
     "data": {
      "text/plain": [
       "33312839.0"
      ]
     },
     "execution_count": 31,
     "metadata": {},
     "output_type": "execute_result"
    }
   ],
   "source": [
    "np.median(leong_depths.values.T.tolist()[0])"
   ]
  },
  {
   "cell_type": "markdown",
   "id": "1131e082",
   "metadata": {},
   "source": [
    "# now perform signature scoring"
   ]
  },
  {
   "cell_type": "code",
   "execution_count": 32,
   "id": "f64aa817",
   "metadata": {},
   "outputs": [],
   "source": [
    "bladder_sig = leong_logcpm.loc(axis = 0)[intersection, :].sum() / len(intersection)"
   ]
  },
  {
   "cell_type": "code",
   "execution_count": 33,
   "id": "e73b9222",
   "metadata": {},
   "outputs": [],
   "source": [
    "bladder_sig = pd.DataFrame(bladder_sig, columns = ['sigscore'])"
   ]
  },
  {
   "cell_type": "code",
   "execution_count": 34,
   "id": "3a0bb090",
   "metadata": {},
   "outputs": [],
   "source": [
    "bladder_sig['log(sigscore)'] = np.log10(bladder_sig.sigscore)"
   ]
  },
  {
   "cell_type": "code",
   "execution_count": 35,
   "id": "e2ca946b",
   "metadata": {},
   "outputs": [],
   "source": [
    "res = res.join(bladder_sig)"
   ]
  },
  {
   "cell_type": "code",
   "execution_count": 36,
   "id": "f5e90d5a",
   "metadata": {},
   "outputs": [],
   "source": [
    "res['is_cancer'] = [True if i != 'control' else False for i in res.cancer_type]"
   ]
  },
  {
   "cell_type": "code",
   "execution_count": 37,
   "id": "262bc461",
   "metadata": {},
   "outputs": [
    {
     "name": "stderr",
     "output_type": "stream",
     "text": [
      "/Users/sevahn/anaconda3/lib/python3.11/site-packages/seaborn/_oldcore.py:1119: FutureWarning: use_inf_as_na option is deprecated and will be removed in a future version. Convert inf values to NaN before operating instead.\n",
      "  with pd.option_context('mode.use_inf_as_na', True):\n",
      "/Users/sevahn/anaconda3/lib/python3.11/site-packages/seaborn/_oldcore.py:1119: FutureWarning: use_inf_as_na option is deprecated and will be removed in a future version. Convert inf values to NaN before operating instead.\n",
      "  with pd.option_context('mode.use_inf_as_na', True):\n",
      "/Users/sevahn/anaconda3/lib/python3.11/site-packages/seaborn/_oldcore.py:1075: FutureWarning: When grouping with a length-1 list-like, you will need to pass a length-1 tuple to get_group in a future version of pandas. Pass `(name,)` instead of `name` to silence this warning.\n",
      "  data_subset = grouped_data.get_group(pd_key)\n"
     ]
    },
    {
     "data": {
      "text/plain": [
       "Text(0.5, 22.249999999999993, '')"
      ]
     },
     "execution_count": 37,
     "metadata": {},
     "output_type": "execute_result"
    },
    {
     "data": {
      "image/png": "[encoded data removed]",
      "text/plain": [
       "<Figure size 300x500 with 1 Axes>"
      ]
     },
     "metadata": {},
     "output_type": "display_data"
    }
   ],
   "source": [
    "plt.figure(figsize = (3, 5))\n",
    "sns.boxplot(data = res,\n",
    "           x = 'is_cancer',\n",
    "           y = 'sigscore',\n",
    "            color = '#9BDDFF',\n",
    "            fliersize = 0,\n",
    "           order = [False, True])\n",
    "\n",
    "sns.swarmplot(data = res,\n",
    "           x = 'is_cancer',\n",
    "           y = 'sigscore',\n",
    "           color = \"0\",\n",
    "           order = [False, True])\n",
    "plt.ylim((1.5, 4.5))\n",
    "plt.xlabel(\"\")\n",
    "#save_figure_pdf(plt, '../figures/manu_figs/20231230_bladdersig.pdf')"
   ]
  },
  {
   "cell_type": "code",
   "execution_count": 38,
   "id": "8e97feee",
   "metadata": {},
   "outputs": [],
   "source": [
    "from scipy.stats import mannwhitneyu"
   ]
  },
  {
   "cell_type": "code",
   "execution_count": 39,
   "id": "7b714dd5",
   "metadata": {},
   "outputs": [],
   "source": [
    "ctrl = res[res.is_cancer == False]['sigscore'].values.tolist()\n",
    "cancer = res[res.is_cancer == True]['sigscore'].values.tolist()"
   ]
  },
  {
   "cell_type": "code",
   "execution_count": 40,
   "id": "2eed0612",
   "metadata": {},
   "outputs": [
    {
     "data": {
      "text/plain": [
       "MannwhitneyuResult(statistic=32.0, pvalue=0.021922770830088183)"
      ]
     },
     "execution_count": 40,
     "metadata": {},
     "output_type": "execute_result"
    }
   ],
   "source": [
    "mannwhitneyu(ctrl, cancer, alternative = 'less')"
   ]
  },
  {
   "cell_type": "code",
   "execution_count": 41,
   "id": "96cdb71a",
   "metadata": {},
   "outputs": [],
   "source": [
    "np.random.seed(10)\n",
    "\n",
    "\n",
    "pvals = []\n",
    "difference = []\n",
    "uList = []\n",
    "\n",
    "numTrials = 10000\n",
    "\n",
    "for i in range(numTrials):\n",
    "    newLabels = np.random.permutation(res[\"is_cancer\"])\n",
    "\n",
    "    res['shuffled'] = newLabels\n",
    "\n",
    "\n",
    "    cancer = res[res['shuffled'] == True]['log(sigscore)'].values.tolist()\n",
    "    ctrl = res[res['shuffled'] == False][\"log(sigscore)\"].values.tolist()\n",
    "\n",
    "    \n",
    "    #u_permute, p_permute = mannwhitneyu(ckd, ctrl, alternative = \"two-sided\")\n",
    "    u_permute, p_permute = mannwhitneyu(ctrl, cancer, alternative = \"less\")\n",
    "\n",
    "\n",
    "    uList += [u_permute]\n",
    "    pvals += [p_permute]"
   ]
  },
  {
   "cell_type": "code",
   "execution_count": 42,
   "id": "61382368",
   "metadata": {},
   "outputs": [
    {
     "name": "stderr",
     "output_type": "stream",
     "text": [
      "/Users/sevahn/anaconda3/lib/python3.11/site-packages/seaborn/_oldcore.py:1119: FutureWarning: use_inf_as_na option is deprecated and will be removed in a future version. Convert inf values to NaN before operating instead.\n",
      "  with pd.option_context('mode.use_inf_as_na', True):\n"
     ]
    },
    {
     "data": {
      "text/plain": [
       "Text(0.5, 0, 'p value')"
      ]
     },
     "execution_count": 42,
     "metadata": {},
     "output_type": "execute_result"
    },
    {
     "data": {
      "image/png": "[encoded data removed]",
      "text/plain": [
       "<Figure size 250x150 with 1 Axes>"
      ]
     },
     "metadata": {},
     "output_type": "display_data"
    }
   ],
   "source": [
    "sns.histplot(pvals, color = \"#f75590\", stat = \"density\")\n",
    "plt.xlabel(\"p value\")\n",
    "#save_figure_pdf(plt, \"ptSig_pValDistribPermutation_epoOnly_09222021.pdf\")"
   ]
  },
  {
   "cell_type": "code",
   "execution_count": 43,
   "id": "93c7125f",
   "metadata": {},
   "outputs": [
    {
     "name": "stderr",
     "output_type": "stream",
     "text": [
      "/Users/sevahn/anaconda3/lib/python3.11/site-packages/seaborn/_oldcore.py:1119: FutureWarning: use_inf_as_na option is deprecated and will be removed in a future version. Convert inf values to NaN before operating instead.\n",
      "  with pd.option_context('mode.use_inf_as_na', True):\n"
     ]
    },
    {
     "data": {
      "text/plain": [
       "<matplotlib.lines.Line2D at 0x17785e290>"
      ]
     },
     "execution_count": 43,
     "metadata": {},
     "output_type": "execute_result"
    },
    {
     "data": {
      "image/png": "[encoded data removed]",
      "text/plain": [
       "<Figure size 250x150 with 1 Axes>"
      ]
     },
     "metadata": {},
     "output_type": "display_data"
    }
   ],
   "source": [
    "sns.histplot(uList, color = \"#f75590\", stat = \"density\")\n",
    "plt.xlabel(r'$U_{CTRL vs. Bladder Cancer}$')\n",
    "plt.axvline(32, 0, 2, color = \"red\")"
   ]
  },
  {
   "cell_type": "code",
   "execution_count": 44,
   "id": "41d8d411",
   "metadata": {},
   "outputs": [],
   "source": [
    "greater = []\n",
    "for i in uList:\n",
    "    if i <= 32 : greater += [i]"
   ]
  },
  {
   "cell_type": "code",
   "execution_count": 45,
   "id": "23a5f900",
   "metadata": {},
   "outputs": [
    {
     "data": {
      "text/plain": [
       "0.0238"
      ]
     },
     "execution_count": 45,
     "metadata": {},
     "output_type": "execute_result"
    }
   ],
   "source": [
    "len(greater) / numTrials"
   ]
  }
 ],
 "metadata": {
  "kernelspec": {
   "display_name": "Python 3 (ipykernel)",
   "language": "python",
   "name": "python3"
  },
  "language_info": {
   "codemirror_mode": {
    "name": "ipython",
    "version": 3
   },
   "file_extension": ".py",
   "mimetype": "text/x-python",
   "name": "python",
   "nbconvert_exporter": "python",
   "pygments_lexer": "ipython3",
   "version": "3.11.5"
  }
 },
 "nbformat": 4,
 "nbformat_minor": 5
}
