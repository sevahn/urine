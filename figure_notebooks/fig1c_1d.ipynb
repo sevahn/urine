{
 "cells": [
  {
   "cell_type": "code",
   "execution_count": 1,
   "metadata": {},
   "outputs": [
    {
     "name": "stderr",
     "output_type": "stream",
     "text": [
      "/Users/sevahn/anaconda3/lib/python3.11/site-packages/pandas/core/arrays/masked.py:60: UserWarning: Pandas requires version '1.3.6' or newer of 'bottleneck' (version '1.3.5' currently installed).\n",
      "  from pandas.core import (\n"
     ]
    }
   ],
   "source": [
    "import os\n",
    "import numpy as np\n",
    "import pandas as pd\n",
    "\n",
    "import matplotlib.pyplot as plt\n",
    "import seaborn as sns\n",
    "import matplotlib as mpl\n",
    "\n",
    "#For editable text. Except latex text is still shapes sadly\n",
    "mpl.rcParams['pdf.fonttype'] = 42\n",
    "mpl.rcParams['ps.fonttype'] = 42\n",
    "sns.set_style(\"whitegrid\")\n",
    "font = {'size' : 15}\n",
    "lines = {'linewidth' : 0.5}\n",
    "fig = {'figsize' : (2.5, 1.5)}\n",
    "mpl.rc('font', **font)\n",
    "mpl.rc('lines', **lines)\n",
    "mpl.rc('figure', **fig)\n",
    "\n",
    "from sklearn.preprocessing import RobustScaler\n",
    "from scipy.stats import mannwhitneyu\n",
    "\n",
    "# Set style\n",
    "sns.set(style = \"whitegrid\", palette = \"pastel\",\n",
    "        color_codes=True)\n",
    "\n",
    "import cfrna_methods as toolkit"
   ]
  },
  {
   "cell_type": "code",
   "execution_count": 2,
   "metadata": {},
   "outputs": [],
   "source": [
    "biofluid_pal = {}\n",
    "biofluid_pal['sediment'] = \"#97D9E1\"\n",
    "biofluid_pal['supt'] = \"#3F9ED9\"\n",
    "biofluid_pal['plasma'] = \"#f1593c\" # '#bee9e8'\n",
    "biofluid_pal[1] = '#1b4965'\n",
    "biofluid_pal[0] = '#f20089'\n",
    "\n",
    "biofluid_pal['female_ctrl'] = \"#ffafcc\"\n",
    "biofluid_pal['female_stone'] = '#f20089'\n",
    "biofluid_pal['male_ctrl'] = \"#bde0fe\"\n",
    "biofluid_pal['male_stone'] = '#1b4965'\n",
    "\n",
    "biofluid_pal['male_dummy'] = 'cyan'\n",
    "biofluid_pal['blank'] = 'cyan'\n"
   ]
  },
  {
   "cell_type": "code",
   "execution_count": 3,
   "metadata": {
    "code_folding": [
     0
    ]
   },
   "outputs": [],
   "source": [
    "def save_figure_pdf(fig, path_to_save):\n",
    "\t'''\n",
    "\tUtility fxn to save a figure without having to retype all the required options.\n",
    "\tInput:\n",
    "\t\tfig - a matplotlib.pyplot.figure instance with the figure you'd like to save\n",
    "\t\tpath_to_save - the path you'd like to save the figure to\n",
    "\tReturns: Nothing but there should now be a pdf version in 300 dpi with a transparent bkg at path_to_save\n",
    "\t'''\n",
    "\tfig.savefig(path_to_save, dpi = 300,\n",
    "                bbox_inches = 'tight', transparent = True)"
   ]
  },
  {
   "cell_type": "markdown",
   "metadata": {},
   "source": [
    "# acquire counts and signatures"
   ]
  },
  {
   "cell_type": "code",
   "execution_count": 4,
   "metadata": {},
   "outputs": [],
   "source": [
    "# get the metadata\n",
    "urineonly_meta = '../data/diffex/urine_only_meta_diffex.csv'"
   ]
  },
  {
   "cell_type": "code",
   "execution_count": 5,
   "metadata": {},
   "outputs": [
    {
     "name": "stdout",
     "output_type": "stream",
     "text": [
      "[ True]\n"
     ]
    }
   ],
   "source": [
    "urine_logCPM = toolkit.logcpm_tmm(\"../data/20231228_filtered_sed_supt_urineONLY.csv\",\n",
    "                                      \"../data/diffex/urine_only/20231228_urineOnly_TMM.csv\")\n",
    "\n",
    "# get the metadata\n",
    "urineonly_meta = '../data/diffex/urine_only_meta_diffex.csv'\n",
    "urineOnly_meta = pd.read_csv(urineonly_meta)"
   ]
  },
  {
   "cell_type": "code",
   "execution_count": 6,
   "metadata": {},
   "outputs": [],
   "source": [
    "cell_sig_df = pd.read_csv(\"../data/rna_seq_cts/celltype_sigs.csv\")\n",
    "allSigs = {}\n",
    "for ct in cell_sig_df.columns:\n",
    "    allSigs[ct] = cell_sig_df[ct].dropna().values.tolist()"
   ]
  },
  {
   "cell_type": "markdown",
   "metadata": {},
   "source": [
    "# comparison of prostate gene expression"
   ]
  },
  {
   "cell_type": "code",
   "execution_count": 7,
   "metadata": {},
   "outputs": [],
   "source": [
    "females = np.unique(urineOnly_meta[urineOnly_meta.sex == 0].patient_id.values)"
   ]
  },
  {
   "cell_type": "code",
   "execution_count": 8,
   "metadata": {},
   "outputs": [
    {
     "data": {
      "text/plain": [
       "array(['1741', '1754', '1755', '1757'], dtype=object)"
      ]
     },
     "execution_count": 8,
     "metadata": {},
     "output_type": "execute_result"
    }
   ],
   "source": [
    "females"
   ]
  },
  {
   "cell_type": "code",
   "execution_count": 9,
   "metadata": {},
   "outputs": [],
   "source": [
    "female_samps = []\n",
    "for f in females:\n",
    "    for samp in urine_logCPM.columns:\n",
    "        if f in samp: \n",
    "            female_samps += [samp]"
   ]
  },
  {
   "cell_type": "markdown",
   "metadata": {},
   "source": [
    "# urine sediment vs. supt comparison"
   ]
  },
  {
   "cell_type": "code",
   "execution_count": 10,
   "metadata": {},
   "outputs": [],
   "source": [
    "# check if x1,x2/n is the equivalent of total/n\n",
    "def sigScore(cts_df, sample_id):\n",
    "    sigScoreDF = pd.DataFrame(index = cts_df.columns)\n",
    "    \n",
    "    \n",
    "    for ct in allSigs:\n",
    "        gene_intersection = np.intersect1d(cts_df.index.get_level_values(0),\n",
    "                                           allSigs[ct])\n",
    "\n",
    "        sigScore = cts_df.loc(axis = 0)[gene_intersection, :] \n",
    "        \n",
    "        if sigScore.shape[0] < 5: continue\n",
    "        sigScore = sigScore.sum(axis = 0).to_frame()\n",
    "        cellSigScore = sigScore / len(gene_intersection)\n",
    "        \n",
    "    \n",
    "        cellSigScore.columns = [ct]\n",
    "\n",
    "        sigScoreDF = sigScoreDF.join(cellSigScore)\n",
    "    \n",
    "    return(sigScoreDF)"
   ]
  },
  {
   "cell_type": "code",
   "execution_count": 11,
   "metadata": {},
   "outputs": [],
   "source": [
    "sed_id = [i for i in urine_logCPM.columns if 'sediment' in i]\n",
    "supt_id = [i for i in urine_logCPM.columns if 'supt' in i]"
   ]
  },
  {
   "cell_type": "code",
   "execution_count": 12,
   "metadata": {},
   "outputs": [],
   "source": [
    "urine_rawSigs  = sigScore(urine_logCPM,\n",
    "                        sed_id + supt_id)"
   ]
  },
  {
   "cell_type": "code",
   "execution_count": 13,
   "metadata": {},
   "outputs": [],
   "source": [
    "urine_rawSigs['sample'] = urine_rawSigs.index"
   ]
  },
  {
   "cell_type": "code",
   "execution_count": 14,
   "metadata": {},
   "outputs": [],
   "source": [
    "samp_id = [i.split(\"_\")[0] for i in urine_rawSigs['sample']]"
   ]
  },
  {
   "cell_type": "code",
   "execution_count": 15,
   "metadata": {},
   "outputs": [],
   "source": [
    "sex_id = []\n",
    "for samp in samp_id:\n",
    "    sex = urineOnly_meta[urineOnly_meta.patient_id == samp]['sex'].drop_duplicates(keep = 'first')\n",
    "    \n",
    "    sex_id += sex.values.tolist()"
   ]
  },
  {
   "cell_type": "code",
   "execution_count": 16,
   "metadata": {},
   "outputs": [
    {
     "name": "stdout",
     "output_type": "stream",
     "text": [
      "urine_rawSigs columns:  Index(['bladder urothelial cell', 'LE', 'Proximal tubule', 'sample', 'sex',\n",
      "       'biofluid'],\n",
      "      dtype='object')\n"
     ]
    }
   ],
   "source": [
    "urine_rawSigs['sex'] = sex_id\n",
    "urine_rawSigs['biofluid'] = ['supt' if 'supt' in i else 'sediment' for i in urine_rawSigs.index]\n",
    "print(\"urine_rawSigs columns: \", urine_rawSigs.head().columns)\n",
    "\n",
    "melted_urineRawSigs = pd.melt(urine_rawSigs,\n",
    "                              id_vars = ['biofluid', 'sample', 'sex'],\n",
    "                              value_vars = urine_rawSigs.columns[:-3])\n",
    "\n",
    "melted_urineRawSigs['variable'] = [i.capitalize() for i in melted_urineRawSigs['variable']]\n",
    "\n"
   ]
  },
  {
   "cell_type": "code",
   "execution_count": 17,
   "metadata": {},
   "outputs": [],
   "source": [
    "melted_urineRawSigs['biofluid_ct'] =  melted_urineRawSigs['variable'] + \"_\" + melted_urineRawSigs.biofluid"
   ]
  },
  {
   "cell_type": "code",
   "execution_count": 18,
   "metadata": {},
   "outputs": [],
   "source": [
    "melted_urineRawSigs = melted_urineRawSigs.sort_values(by = 'biofluid_ct')"
   ]
  },
  {
   "cell_type": "code",
   "execution_count": 19,
   "metadata": {},
   "outputs": [],
   "source": [
    "def compare_sed_supt(ct): \n",
    "    urine_rawSigs['biofluid'] = ['sediment' if 'sediment' in i else 'supt' for i in urine_rawSigs.index]\n",
    "    \n",
    "    # subset to male only if prostate cells\n",
    "    if ct == \"LE\":\n",
    "        comparison_subset = urine_rawSigs[urine_rawSigs.sex == 1]\n",
    "    \n",
    "    else: comparison_subset = urine_rawSigs\n",
    "    \n",
    "    ct_urine = comparison_subset[[ct, 'biofluid']]\n",
    "    sed_ct = ct_urine[ct_urine.biofluid == 'sediment'][ct]\n",
    "    supt_ct = ct_urine[ct_urine.biofluid != 'sediment'][ct]\n",
    "    print(\"num sed\", len(sed_ct))\n",
    "    print(\"num supt \", len(supt_ct))\n",
    "    print(mannwhitneyu(sed_ct, supt_ct,\n",
    "                      alternative = 'two-sided'))"
   ]
  },
  {
   "cell_type": "code",
   "execution_count": 20,
   "metadata": {},
   "outputs": [
    {
     "name": "stdout",
     "output_type": "stream",
     "text": [
      "num sed 17\n",
      "num supt  13\n",
      "MannwhitneyuResult(statistic=106.0, pvalue=0.8670498125862652)\n"
     ]
    }
   ],
   "source": [
    "compare_sed_supt('bladder urothelial cell')"
   ]
  },
  {
   "cell_type": "code",
   "execution_count": 21,
   "metadata": {},
   "outputs": [
    {
     "name": "stdout",
     "output_type": "stream",
     "text": [
      "num sed 13\n",
      "num supt  11\n",
      "MannwhitneyuResult(statistic=21.0, pvalue=0.00376957206341765)\n"
     ]
    }
   ],
   "source": [
    "compare_sed_supt('LE')"
   ]
  },
  {
   "cell_type": "code",
   "execution_count": 22,
   "metadata": {},
   "outputs": [
    {
     "name": "stdout",
     "output_type": "stream",
     "text": [
      "num sed 17\n",
      "num supt  13\n",
      "MannwhitneyuResult(statistic=103.0, pvalue=0.769550997768075)\n"
     ]
    }
   ],
   "source": [
    "compare_sed_supt('Proximal tubule')"
   ]
  },
  {
   "cell_type": "code",
   "execution_count": 23,
   "metadata": {},
   "outputs": [
    {
     "name": "stdout",
     "output_type": "stream",
     "text": [
      "Bladder urothelial cell_sediment\n",
      "Bladder urothelial cell_supt\n",
      "Le_sediment\n",
      "Le_supt\n",
      "Proximal tubule_sediment\n",
      "Proximal tubule_supt\n"
     ]
    }
   ],
   "source": [
    "for i in np.unique(melted_urineRawSigs.biofluid_ct):\n",
    "    print(i)\n",
    "    if 'sed' in i:\n",
    "        biofluid_pal[i] = biofluid_pal['sediment']\n",
    "    else:\n",
    "        biofluid_pal[i] = biofluid_pal['supt']"
   ]
  },
  {
   "cell_type": "code",
   "execution_count": 24,
   "metadata": {},
   "outputs": [],
   "source": [
    "for i in np.unique(melted_urineRawSigs.variable):\n",
    "    dummy_entry = i + \"_blank\"\n",
    "    vals = ['blank', 'dummy', 1, i, 3, dummy_entry]\n",
    "    biofluid_pal[dummy_entry] = '#FFFFFF'  "
   ]
  },
  {
   "cell_type": "code",
   "execution_count": 25,
   "metadata": {},
   "outputs": [],
   "source": [
    "for i in np.unique(melted_urineRawSigs.variable):\n",
    "    dummy_entry = i + \"_blank\"\n",
    "    \n",
    "    # make an entry value that's easy to delete in the middle of the y-axis range\n",
    "    vals = ['blank', 'dummy', 1, i, 3, dummy_entry]\n",
    "    \n",
    "    # make it all white\n",
    "    biofluid_pal[dummy_entry] = '#FFFFFF'\n",
    "    \n",
    "    # in place modify df\n",
    "    melted_urineRawSigs.loc[len(melted_urineRawSigs.index)] = vals"
   ]
  },
  {
   "cell_type": "code",
   "execution_count": 26,
   "metadata": {},
   "outputs": [],
   "source": [
    "melted_urineRawSigs['condition'] = ['ctrl' if 'N' in i else \"dummy\" if i == 'dummy' else \"stone\" for i in melted_urineRawSigs['sample']]\n",
    "melted_urineRawSigs['gender'] = ['male' if i == 1 else \"female\" for i in melted_urineRawSigs['sex']]\n",
    "melted_urineRawSigs['gender_status'] = melted_urineRawSigs['gender'] + \"_\" + melted_urineRawSigs['condition']              "
   ]
  },
  {
   "cell_type": "code",
   "execution_count": 27,
   "metadata": {},
   "outputs": [
    {
     "data": {
      "text/plain": [
       "array(['female_stone', 'male_ctrl', 'male_dummy', 'male_stone'],\n",
       "      dtype=object)"
      ]
     },
     "execution_count": 27,
     "metadata": {},
     "output_type": "execute_result"
    }
   ],
   "source": [
    "np.unique(melted_urineRawSigs['gender_status'])"
   ]
  },
  {
   "cell_type": "code",
   "execution_count": 28,
   "metadata": {},
   "outputs": [],
   "source": [
    "biofluid_order = ['sediment', 'supt', 'blank']\n",
    "celltypes = ['Proximal tubule', 'Bladder urothelial cell', 'Le'] \n",
    "\n",
    "ct_order_lst = []\n",
    "\n",
    "for ct in celltypes:\n",
    "    for j in biofluid_order:\n",
    "        if ct == 'Enterocyte' and j == 'blank': continue\n",
    "        ct_order_lst += [f'{ct}_{j}']"
   ]
  },
  {
   "cell_type": "code",
   "execution_count": 29,
   "metadata": {},
   "outputs": [],
   "source": [
    "melted_urineRawSigs['gender'] = ['male' if i == 1 else \"female\" for i in melted_urineRawSigs['sex']]\n",
    "melted_urineRawSigs['gender_status'] = melted_urineRawSigs['gender'] + \"_\" + melted_urineRawSigs['condition']              "
   ]
  },
  {
   "cell_type": "code",
   "execution_count": 30,
   "metadata": {},
   "outputs": [],
   "source": [
    "controls = melted_urineRawSigs[melted_urineRawSigs.condition == \"ctrl\"]\n",
    "stone = melted_urineRawSigs[melted_urineRawSigs.condition == \"stone\"]"
   ]
  },
  {
   "cell_type": "code",
   "execution_count": 31,
   "metadata": {},
   "outputs": [],
   "source": [
    "ct_order_lst = ct_order_lst[:-1] # remove \"Le_blank\" so plot ends on \"Le_supt\""
   ]
  },
  {
   "cell_type": "code",
   "execution_count": 32,
   "metadata": {},
   "outputs": [
    {
     "name": "stderr",
     "output_type": "stream",
     "text": [
      "/Users/sevahn/anaconda3/lib/python3.11/site-packages/seaborn/_oldcore.py:1119: FutureWarning: use_inf_as_na option is deprecated and will be removed in a future version. Convert inf values to NaN before operating instead.\n",
      "  with pd.option_context('mode.use_inf_as_na', True):\n",
      "/Users/sevahn/anaconda3/lib/python3.11/site-packages/seaborn/_oldcore.py:1119: FutureWarning: use_inf_as_na option is deprecated and will be removed in a future version. Convert inf values to NaN before operating instead.\n",
      "  with pd.option_context('mode.use_inf_as_na', True):\n",
      "/Users/sevahn/anaconda3/lib/python3.11/site-packages/seaborn/_oldcore.py:1075: FutureWarning: When grouping with a length-1 list-like, you will need to pass a length-1 tuple to get_group in a future version of pandas. Pass `(name,)` instead of `name` to silence this warning.\n",
      "  data_subset = grouped_data.get_group(pd_key)\n",
      "/Users/sevahn/anaconda3/lib/python3.11/site-packages/seaborn/_oldcore.py:1075: FutureWarning: When grouping with a length-1 list-like, you will need to pass a length-1 tuple to get_group in a future version of pandas. Pass `(name,)` instead of `name` to silence this warning.\n",
      "  data_subset = grouped_data.get_group(pd_key)\n",
      "/Users/sevahn/anaconda3/lib/python3.11/site-packages/seaborn/_oldcore.py:1075: FutureWarning: When grouping with a length-1 list-like, you will need to pass a length-1 tuple to get_group in a future version of pandas. Pass `(name,)` instead of `name` to silence this warning.\n",
      "  data_subset = grouped_data.get_group(pd_key)\n",
      "/Users/sevahn/anaconda3/lib/python3.11/site-packages/seaborn/_oldcore.py:1119: FutureWarning: use_inf_as_na option is deprecated and will be removed in a future version. Convert inf values to NaN before operating instead.\n",
      "  with pd.option_context('mode.use_inf_as_na', True):\n",
      "/Users/sevahn/anaconda3/lib/python3.11/site-packages/seaborn/_oldcore.py:1119: FutureWarning: use_inf_as_na option is deprecated and will be removed in a future version. Convert inf values to NaN before operating instead.\n",
      "  with pd.option_context('mode.use_inf_as_na', True):\n",
      "/Users/sevahn/anaconda3/lib/python3.11/site-packages/seaborn/_oldcore.py:1075: FutureWarning: When grouping with a length-1 list-like, you will need to pass a length-1 tuple to get_group in a future version of pandas. Pass `(name,)` instead of `name` to silence this warning.\n",
      "  data_subset = grouped_data.get_group(pd_key)\n",
      "/Users/sevahn/anaconda3/lib/python3.11/site-packages/seaborn/_oldcore.py:1075: FutureWarning: When grouping with a length-1 list-like, you will need to pass a length-1 tuple to get_group in a future version of pandas. Pass `(name,)` instead of `name` to silence this warning.\n",
      "  data_subset = grouped_data.get_group(pd_key)\n",
      "/Users/sevahn/anaconda3/lib/python3.11/site-packages/seaborn/_oldcore.py:1075: FutureWarning: When grouping with a length-1 list-like, you will need to pass a length-1 tuple to get_group in a future version of pandas. Pass `(name,)` instead of `name` to silence this warning.\n",
      "  data_subset = grouped_data.get_group(pd_key)\n"
     ]
    },
    {
     "data": {
      "image/png": "[encoded data removed]",
      "text/plain": [
       "<Figure size 500x300 with 1 Axes>"
      ]
     },
     "metadata": {},
     "output_type": "display_data"
    }
   ],
   "source": [
    "plt.figure(figsize = (5, 3))\n",
    "\n",
    "sns.boxplot(data = melted_urineRawSigs,\n",
    "           x = 'biofluid_ct',\n",
    "            y = 'value',\n",
    "           fliersize = 0,\n",
    "           palette = biofluid_pal,\n",
    "           order = ct_order_lst)\n",
    "\n",
    "sns.stripplot(data = stone,\n",
    "           x = 'biofluid_ct',\n",
    "            y = 'value',\n",
    "           hue = 'sex',\n",
    "              size = 5,\n",
    "              marker = \"o\",\n",
    "             palette = biofluid_pal,\n",
    "             order = ct_order_lst)\n",
    "\n",
    "sns.stripplot(data = controls,\n",
    "           x = 'biofluid_ct',\n",
    "            y = 'value',\n",
    "           hue = 'sex',\n",
    "              size = 7,\n",
    "              marker = \"X\",\n",
    "             \n",
    "            palette = biofluid_pal,\n",
    "             order = ct_order_lst)\n",
    "\n",
    "plt.xticks(rotation = 'vertical');\n",
    "plt.legend(bbox_to_anchor = (1.2, 1));\n",
    "plt.ylabel('Signature Score');\n",
    "plt.xlabel(\"\")\n",
    "plt.yticks([0, 3, 6, 9])\n",
    "plt.ylim((0, 10))\n",
    "\n",
    "save_figure_pdf(plt, '../figures/manu_figs/sigScore_urineOnly.pdf')"
   ]
  },
  {
   "cell_type": "markdown",
   "metadata": {},
   "source": [
    "# get the intestinal markers"
   ]
  },
  {
   "cell_type": "code",
   "execution_count": 33,
   "metadata": {},
   "outputs": [],
   "source": [
    "markers = ['MUC2', 'ANPEP']"
   ]
  },
  {
   "cell_type": "code",
   "execution_count": 34,
   "metadata": {},
   "outputs": [],
   "source": [
    "intest_markers = urine_logCPM.loc(axis = 0)[:, markers].T\n",
    "intest_markers['biofluid'] = ['sediment' if 'sed' in i else 'supt' for i in intest_markers.index]\n",
    "intest_markers['status'] = ['normal' if i[0] == 'N' else 'stone' for i in intest_markers.index]"
   ]
  },
  {
   "cell_type": "code",
   "execution_count": 35,
   "metadata": {},
   "outputs": [],
   "source": [
    "melted_intestMarkers = pd.melt(intest_markers, \n",
    "        value_vars = intest_markers.columns[:-2].tolist(),\n",
    "       id_vars = intest_markers.columns[-2:].tolist())"
   ]
  },
  {
   "cell_type": "code",
   "execution_count": 36,
   "metadata": {},
   "outputs": [
    {
     "name": "stderr",
     "output_type": "stream",
     "text": [
      "/Users/sevahn/anaconda3/lib/python3.11/site-packages/seaborn/categorical.py:166: FutureWarning: Setting a gradient palette using color= is deprecated and will be removed in version 0.13. Set `palette='dark:black'` for same effect.\n",
      "  warnings.warn(msg, FutureWarning)\n",
      "/Users/sevahn/anaconda3/lib/python3.11/site-packages/seaborn/_oldcore.py:1119: FutureWarning: use_inf_as_na option is deprecated and will be removed in a future version. Convert inf values to NaN before operating instead.\n",
      "  with pd.option_context('mode.use_inf_as_na', True):\n",
      "/Users/sevahn/anaconda3/lib/python3.11/site-packages/seaborn/_oldcore.py:1119: FutureWarning: use_inf_as_na option is deprecated and will be removed in a future version. Convert inf values to NaN before operating instead.\n",
      "  with pd.option_context('mode.use_inf_as_na', True):\n",
      "/Users/sevahn/anaconda3/lib/python3.11/site-packages/seaborn/categorical.py:166: FutureWarning: Setting a gradient palette using color= is deprecated and will be removed in version 0.13. Set `palette='dark:black'` for same effect.\n",
      "  warnings.warn(msg, FutureWarning)\n",
      "/Users/sevahn/anaconda3/lib/python3.11/site-packages/seaborn/_oldcore.py:1119: FutureWarning: use_inf_as_na option is deprecated and will be removed in a future version. Convert inf values to NaN before operating instead.\n",
      "  with pd.option_context('mode.use_inf_as_na', True):\n",
      "/Users/sevahn/anaconda3/lib/python3.11/site-packages/seaborn/_oldcore.py:1119: FutureWarning: use_inf_as_na option is deprecated and will be removed in a future version. Convert inf values to NaN before operating instead.\n",
      "  with pd.option_context('mode.use_inf_as_na', True):\n"
     ]
    },
    {
     "data": {
      "image/png": "[encoded data removed]",
      "text/plain": [
       "<Figure size 300x500 with 1 Axes>"
      ]
     },
     "metadata": {},
     "output_type": "display_data"
    }
   ],
   "source": [
    "gene_subset = ['ANPEP', 'MUC2']\n",
    "subset = melted_intestMarkers[melted_intestMarkers['gene_name'].isin(gene_subset)]\n",
    "plt.figure(figsize = (3, 5))\n",
    "\n",
    "sns.boxplot(data = subset,\n",
    "           x = 'gene_name', y = 'value', \n",
    "            hue = ('biofluid', ''),\n",
    "           palette = biofluid_pal,\n",
    "           dodge = True,\n",
    "            order = gene_subset,\n",
    "           fliersize = 0)\n",
    "\n",
    "stone = melted_intestMarkers[melted_intestMarkers[('status', '')] == \"stone\"]\n",
    "ctrl = melted_intestMarkers[melted_intestMarkers[('status', '')] == \"normal\"]\n",
    "\n",
    "\n",
    "sns.stripplot(data = stone,\n",
    "            x = 'gene_name', y = 'value', \n",
    "            hue = ('biofluid', ''),\n",
    "              dodge = True,\n",
    "              size = 5,\n",
    "              marker = \"o\",\n",
    "              color = \"black\",\n",
    "              order = gene_subset)\n",
    "\n",
    "\n",
    "sns.stripplot(data = ctrl,\n",
    "            x = 'gene_name', y = 'value', \n",
    "            hue = ('biofluid', ''),\n",
    "              dodge = True,\n",
    "            size = 5,\n",
    "            marker = \"X\",\n",
    "              color = \"black\",\n",
    "              order = gene_subset)\n",
    "\n",
    "plt.legend(bbox_to_anchor = (1.6, 0.3))\n",
    "plt.xlabel(\"\");\n",
    "\n",
    "plt.yticks(np.arange(-1, 13, 1.0))\n",
    "plt.ylabel('Log(CPM TMM + 1)');\n",
    "\n",
    "save_figure_pdf(plt, '../figures/manu_figs/intestinal_markers_inUrine.pdf')"
   ]
  },
  {
   "cell_type": "code",
   "execution_count": 37,
   "metadata": {},
   "outputs": [],
   "source": [
    "ANPEP = melted_intestMarkers[melted_intestMarkers.gene_name == 'ANPEP']\n",
    "ANPEP_sediment = ANPEP[ANPEP[('biofluid', '')] == 'sediment'].value.tolist()\n",
    "ANPEP_supt = ANPEP[ANPEP[('biofluid', '')] == 'supt'].value.tolist()"
   ]
  },
  {
   "cell_type": "code",
   "execution_count": 38,
   "metadata": {},
   "outputs": [],
   "source": [
    "MUC2 = melted_intestMarkers[melted_intestMarkers.gene_name == 'MUC2']\n",
    "MUC2_sediment = MUC2[MUC2[('biofluid', '')] == 'sediment'].value.tolist()\n",
    "MUC2_supt = MUC2[MUC2[('biofluid', '')] == 'supt'].value.tolist()"
   ]
  },
  {
   "cell_type": "code",
   "execution_count": 39,
   "metadata": {},
   "outputs": [
    {
     "data": {
      "text/plain": [
       "MannwhitneyuResult(statistic=191.0, pvalue=0.0006894338831445325)"
      ]
     },
     "execution_count": 39,
     "metadata": {},
     "output_type": "execute_result"
    }
   ],
   "source": [
    "mannwhitneyu(MUC2_sediment, MUC2_supt, alternative = 'two-sided')"
   ]
  },
  {
   "cell_type": "code",
   "execution_count": 40,
   "metadata": {},
   "outputs": [
    {
     "data": {
      "text/plain": [
       "MannwhitneyuResult(statistic=184.0, pvalue=0.0022492708379471915)"
      ]
     },
     "execution_count": 40,
     "metadata": {},
     "output_type": "execute_result"
    }
   ],
   "source": [
    "mannwhitneyu(ANPEP_sediment, ANPEP_supt, alternative = 'two-sided')"
   ]
  },
  {
   "cell_type": "code",
   "execution_count": null,
   "metadata": {},
   "outputs": [],
   "source": []
  }
 ],
 "metadata": {
  "kernelspec": {
   "display_name": "Python 3 (ipykernel)",
   "language": "python",
   "name": "python3"
  },
  "language_info": {
   "codemirror_mode": {
    "name": "ipython",
    "version": 3
   },
   "file_extension": ".py",
   "mimetype": "text/x-python",
   "name": "python",
   "nbconvert_exporter": "python",
   "pygments_lexer": "ipython3",
   "version": "3.11.5"
  }
 },
 "nbformat": 4,
 "nbformat_minor": 4
}
